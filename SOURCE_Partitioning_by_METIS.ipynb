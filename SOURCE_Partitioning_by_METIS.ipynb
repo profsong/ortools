{
  "nbformat": 4,
  "nbformat_minor": 0,
  "metadata": {
    "colab": {
      "provenance": [],
      "authorship_tag": "ABX9TyNd5oAXmufFcpkwyYMfPwfV",
      "include_colab_link": true
    },
    "kernelspec": {
      "name": "python3",
      "display_name": "Python 3"
    },
    "language_info": {
      "name": "python"
    }
  },
  "cells": [
    {
      "cell_type": "markdown",
      "metadata": {
        "id": "view-in-github",
        "colab_type": "text"
      },
      "source": [
        "<a href=\"https://colab.research.google.com/github/profsong/ortools/blob/main/SOURCE_Partitioning_by_METIS.ipynb\" target=\"_parent\"><img src=\"https://colab.research.google.com/assets/colab-badge.svg\" alt=\"Open In Colab\"/></a>"
      ]
    },
    {
      "cell_type": "code",
      "source": [
        "!pip install pymetis\n"
      ],
      "metadata": {
        "colab": {
          "base_uri": "https://localhost:8080/"
        },
        "id": "Ws42ozTfWEvG",
        "outputId": "87babfef-2ae2-457f-eb21-86bdf4503081"
      },
      "execution_count": 2,
      "outputs": [
        {
          "output_type": "stream",
          "name": "stdout",
          "text": [
            "Collecting pymetis\n",
            "  Downloading PyMetis-2023.1.1-cp310-cp310-manylinux_2_17_x86_64.manylinux2014_x86_64.whl (330 kB)\n",
            "\u001b[2K     \u001b[90m━━━━━━━━━━━━━━━━━━━━━━━━━━━━━━━━━━━━━━━━\u001b[0m \u001b[32m330.0/330.0 kB\u001b[0m \u001b[31m2.8 MB/s\u001b[0m eta \u001b[36m0:00:00\u001b[0m\n",
            "\u001b[?25hInstalling collected packages: pymetis\n",
            "Successfully installed pymetis-2023.1.1\n"
          ]
        }
      ]
    },
    {
      "cell_type": "code",
      "execution_count": 7,
      "metadata": {
        "colab": {
          "base_uri": "https://localhost:8080/"
        },
        "id": "28fDgPaCV_OA",
        "outputId": "dcd7ff3e-4fb4-4817-f8b1-c6a0a65d7b57"
      },
      "outputs": [
        {
          "output_type": "stream",
          "name": "stdout",
          "text": [
            "3\n",
            "[3 5 6]\n",
            "[0 1 2 4]\n"
          ]
        }
      ],
      "source": [
        "import numpy as np\n",
        "import pymetis\n",
        "adjacency_list = [np.array([4, 2, 1]),\n",
        "                  np.array([0, 2, 3]),\n",
        "                  np.array([4, 3, 1, 0]),\n",
        "                  np.array([1, 2, 5, 6]),\n",
        "                  np.array([0, 2, 5]),\n",
        "                  np.array([4, 3, 6]),\n",
        "                  np.array([5, 3])]\n",
        "n_cuts, membership = pymetis.part_graph(2, adjacency=adjacency_list)\n",
        "# n_cuts = 3\n",
        "# membership = [1, 1, 1, 0, 1, 0, 0]\n",
        "\n",
        "nodes_part_0 = np.argwhere(np.array(membership) == 0).ravel() # [3, 5, 6]\n",
        "nodes_part_1 = np.argwhere(np.array(membership) == 1).ravel() # [0, 1, 2, 4]\n",
        "\n",
        "print(n_cuts)\n",
        "print(nodes_part_0)\n",
        "print(nodes_part_1)"
      ]
    }
  ]
}